{
 "cells": [
  {
   "cell_type": "code",
   "execution_count": 11,
   "metadata": {},
   "outputs": [],
   "source": [
    "from PIL import Image\n",
    "import pytesseract\n",
    "import cv2"
   ]
  },
  {
   "cell_type": "code",
   "execution_count": 4,
   "metadata": {},
   "outputs": [],
   "source": [
    "text = pytesseract.image_to_string(Image.open('test.png'))"
   ]
  },
  {
   "cell_type": "code",
   "execution_count": 3,
   "metadata": {},
   "outputs": [],
   "source": [
    "pytesseract.pytesseract.tesseract_cmd = r\"C:\\Program Files (x86)\\Tesseract-OCR\\tesseract.exe\""
   ]
  },
  {
   "cell_type": "code",
   "execution_count": 5,
   "metadata": {},
   "outputs": [
    {
     "data": {
      "text/plain": [
       "'This is a lot of 12 point text to test the\\nocr code and see if it works on all types\\nof file format.\\n\\nThe quick brown dog jumped over the\\nlazy fox. The quick brown dog jumped\\nover the lazy fox. The quick brown dog\\njumped over the lazy fox. The quick\\nbrown dog jumped over the lazy fox.'"
      ]
     },
     "execution_count": 5,
     "metadata": {},
     "output_type": "execute_result"
    }
   ],
   "source": [
    "text"
   ]
  },
  {
   "cell_type": "code",
   "execution_count": 7,
   "metadata": {},
   "outputs": [],
   "source": [
    "tex = pytesseract.image_to_string(Image.open('b.jpg'))"
   ]
  },
  {
   "cell_type": "code",
   "execution_count": 8,
   "metadata": {},
   "outputs": [
    {
     "data": {
      "text/plain": [
       "'IDRH\\nNon-text-searchable PDF\\n\\nThis is an example of a non-text-searchable PDF. Because it was created from\\nan image rather than a text document, it cannot be rendered as plain text by the\\nPDF reader. Thus, attempting to select the text on the page as though it were a\\ntext document or website will not work, regardless of how neatly it is organized.'"
      ]
     },
     "execution_count": 8,
     "metadata": {},
     "output_type": "execute_result"
    }
   ],
   "source": [
    "tex"
   ]
  },
  {
   "cell_type": "code",
   "execution_count": 20,
   "metadata": {},
   "outputs": [],
   "source": [
    "from pdf2jpg import pdf2jpg\n",
    "inputpath = r\"C:\\\\notebook\\sample.pdf\"\n",
    "outputpath = r\"C:\\\\notebook\\image\""
   ]
  },
  {
   "cell_type": "code",
   "execution_count": 21,
   "metadata": {},
   "outputs": [
    {
     "name": "stdout",
     "output_type": "stream",
     "text": [
      "[{'cmd': 'java -jar C:\\\\Users\\\\KS2\\\\Anaconda3\\\\lib\\\\site-packages\\\\pdf2jpg\\\\pdf2jpg.jar -i \"C:\\\\\\\\notebook\\\\sample.pdf\" -o \"C:\\\\\\\\notebook\\\\image\" -p ALL', 'input_path': 'C:\\\\\\\\notebook\\\\sample.pdf', 'output_pdfpath': 'C:\\\\notebook\\\\image\\\\sample.pdf', 'output_jpgfiles': ['C:\\\\notebook\\\\image\\\\sample.pdf\\\\0_sample.pdf.jpg', 'C:\\\\notebook\\\\image\\\\sample.pdf\\\\1_sample.pdf.jpg']}]\n"
     ]
    }
   ],
   "source": [
    "result = pdf2jpg.convert_pdf2jpg(inputpath, outputpath, pages=\"ALL\")\n",
    "print(result)"
   ]
  },
  {
   "cell_type": "code",
   "execution_count": 22,
   "metadata": {},
   "outputs": [],
   "source": [
    "import os"
   ]
  },
  {
   "cell_type": "code",
   "execution_count": 23,
   "metadata": {},
   "outputs": [
    {
     "name": "stdout",
     "output_type": "stream",
     "text": [
      "C:\\notebook\\image\\sample.pdf\\0_sample.pdf.jpg\n",
      "1\n",
      "A Simple PDF File\n",
      "\n",
      "This is a small demonstration .pdf file -\n",
      "\n",
      "just for use in the Virtual Mechanics tutorials. More text. And more\n",
      "text. And more text. And more text. And more text.\n",
      "\n",
      "And more text. And more text. And more text. And more text. And more\n",
      "text. And more text. Boring, zzzzz. And more text. And more text. And\n",
      "\n",
      "more text. And more text. And more text. And more text. And more text.\n",
      "\n",
      "And more text. And more text.\n",
      "\n",
      "And more text. And more text. And more text. And more text. And more\n",
      "text. And more text. And more text. Even more. Continued on page 2\n",
      "C:\\notebook\\image\\sample.pdf\\1_sample.pdf.jpg\n",
      "2\n",
      "Simple PDF File 2\n",
      "\n",
      "...continued from page 1. Yet more text. And more text. And more text.\n",
      "And more text. And more text. And more text. And more text. And more\n",
      "text. Oh, how boring typing this stuff. But not as boring as watching\n",
      "paint dry. And more text. And more text. And more text. And more text.\n",
      "Boring. More, a little more text. The end, and just as well.\n"
     ]
    }
   ],
   "source": [
    "directory=r\"C:\\notebook\\image\\sample.pdf\"\n",
    "count=0\n",
    "text=''\n",
    "for filename in os.listdir(directory):\n",
    "    if filename.endswith(\".jpg\"): \n",
    "        print(os.path.join(directory, filename))\n",
    "        path=os.path.join(directory, filename)\n",
    "        count+=1\n",
    "        print(count)\n",
    "        text = text+pytesseract.image_to_string(Image.open(path))\n",
    "        print(text)"
   ]
  },
  {
   "cell_type": "code",
   "execution_count": 24,
   "metadata": {},
   "outputs": [],
   "source": [
    "import shutil"
   ]
  },
  {
   "cell_type": "code",
   "execution_count": 25,
   "metadata": {},
   "outputs": [],
   "source": [
    "if os.path.exists(directory): shutil.rmtree(directory)"
   ]
  },
  {
   "cell_type": "code",
   "execution_count": 27,
   "metadata": {},
   "outputs": [
    {
     "data": {
      "text/plain": [
       "'Simple PDF File 2\\n\\n...continued from page 1. Yet more text. And more text. And more text.\\nAnd more text. And more text. And more text. And more text. And more\\ntext. Oh, how boring typing this stuff. But not as boring as watching\\npaint dry. And more text. And more text. And more text. And more text.\\nBoring. More, a little more text. The end, and just as well.'"
      ]
     },
     "execution_count": 27,
     "metadata": {},
     "output_type": "execute_result"
    }
   ],
   "source": [
    "text"
   ]
  },
  {
   "cell_type": "code",
   "execution_count": null,
   "metadata": {},
   "outputs": [],
   "source": [
    "if (any(map(lambda word: word in sentence, search_keywords))):\n",
    "    print sentence"
   ]
  },
  {
   "cell_type": "code",
   "execution_count": 32,
   "metadata": {},
   "outputs": [
    {
     "name": "stdout",
     "output_type": "stream",
     "text": [
      "0 key words in sentence:\n",
      "Simple PDF File 2\n",
      "\n",
      "0 key words in sentence:\n",
      "\n",
      "\n",
      "0 key words in sentence:\n",
      "...continued from page 1. Yet more text. And more text. And more text.\n",
      "\n",
      "0 key words in sentence:\n",
      "And more text. And more text. And more text. And more text. And more\n",
      "\n",
      "1 key words in sentence:\n",
      "text. Oh, how boring typing this stuff. But not as boring as watching\n",
      "\n",
      "0 key words in sentence:\n",
      "paint dry. And more text. And more text. And more text. And more text.\n",
      "\n",
      "2 key words in sentence:\n",
      "Boring. More, a little more text. The end, and just as well.\n",
      "\n"
     ]
    }
   ],
   "source": [
    "# text = text.split(\"\\n\")\n",
    "sentences=text\n",
    "search_keywords=['boring','Boring','end']\n",
    "\n",
    "for sentence in sentences:\n",
    "    print(\"{} key words in sentence:\".format(sum(1 for word in search_keywords if word in sentence)))\n",
    "    print(sentence + \"\\n\")\n",
    "\n"
   ]
  },
  {
   "cell_type": "code",
   "execution_count": null,
   "metadata": {},
   "outputs": [],
   "source": []
  },
  {
   "cell_type": "code",
   "execution_count": null,
   "metadata": {},
   "outputs": [],
   "source": []
  }
 ],
 "metadata": {
  "kernelspec": {
   "display_name": "Python 3",
   "language": "python",
   "name": "python3"
  },
  "language_info": {
   "codemirror_mode": {
    "name": "ipython",
    "version": 3
   },
   "file_extension": ".py",
   "mimetype": "text/x-python",
   "name": "python",
   "nbconvert_exporter": "python",
   "pygments_lexer": "ipython3",
   "version": "3.6.4"
  }
 },
 "nbformat": 4,
 "nbformat_minor": 2
}
