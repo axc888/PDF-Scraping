{
 "cells": [
  {
   "cell_type": "code",
   "execution_count": 29,
   "metadata": {},
   "outputs": [],
   "source": [
    "from PIL import Image\n",
    "import pytesseract\n",
    "import os\n",
    "import shutil\n",
    "from pdf2jpg import pdf2jpg"
   ]
  },
  {
   "cell_type": "code",
   "execution_count": 4,
   "metadata": {},
   "outputs": [
    {
     "name": "stdout",
     "output_type": "stream",
     "text": [
      "C:\\\\notebook\\sample.pdf\n",
      "C:\\\\notebook\\text-searchable.pdf\n"
     ]
    }
   ],
   "source": [
    "dir=r\"C:\\\\notebook\"\n",
    "path_list=[]\n",
    "for filename in os.listdir(dir):\n",
    "    if filename.endswith(\".pdf\") or filename.endswith(\".PDF\"): \n",
    "        print(os.path.join(dir, filename))\n",
    "        path_list.append(os.path.join(dir, filename))\n",
    "        continue\n",
    "    else:\n",
    "        continue"
   ]
  },
  {
   "cell_type": "code",
   "execution_count": 31,
   "metadata": {},
   "outputs": [
    {
     "name": "stdout",
     "output_type": "stream",
     "text": [
      "C:\\\\notebook\\sample.pdf\n",
      "[{'cmd': 'java -jar C:\\\\Users\\\\KS2\\\\Anaconda3\\\\lib\\\\site-packages\\\\pdf2jpg\\\\pdf2jpg.jar -i \"C:\\\\\\\\notebook\\\\sample.pdf\" -o \"C:\\\\\\\\notebook\\\\image\" -p ALL', 'input_path': 'C:\\\\\\\\notebook\\\\sample.pdf', 'output_pdfpath': 'C:\\\\notebook\\\\image\\\\sample.pdf', 'output_jpgfiles': ['C:\\\\notebook\\\\image\\\\sample.pdf\\\\0_sample.pdf.jpg', 'C:\\\\notebook\\\\image\\\\sample.pdf\\\\1_sample.pdf.jpg']}]\n",
      "C:\\notebook\\image\\sample.pdf\\0_sample.pdf.jpg\n",
      "1\n",
      "A Simple PDF File\n",
      "\n",
      "This is a small demonstration .pdf file -\n",
      "\n",
      "just for use in the Virtual Mechanics tutorials. More text. And more\n",
      "text. And more text. And more text. And more text.\n",
      "\n",
      "And more text. And more text. And more text. And more text. And more\n",
      "text. And more text. Boring, zzzzz. And more text. And more text. And\n",
      "\n",
      "more text. And more text. And more text. And more text. And more text.\n",
      "\n",
      "And more text. And more text.\n",
      "\n",
      "And more text. And more text. And more text. And more text. And more\n",
      "text. And more text. And more text. Even more. Continued on page 2\n",
      "0 key words in sentence:\n",
      "A Simple PDF File\n",
      "\n",
      "0 key words in sentence:\n",
      "\n",
      "\n",
      "0 key words in sentence:\n",
      "This is a small demonstration .pdf file -\n",
      "\n",
      "0 key words in sentence:\n",
      "\n",
      "\n",
      "0 key words in sentence:\n",
      "just for use in the Virtual Mechanics tutorials. More text. And more\n",
      "\n",
      "0 key words in sentence:\n",
      "text. And more text. And more text. And more text.\n",
      "\n",
      "0 key words in sentence:\n",
      "\n",
      "\n",
      "0 key words in sentence:\n",
      "And more text. And more text. And more text. And more text. And more\n",
      "\n",
      "1 key words in sentence:\n",
      "text. And more text. Boring, zzzzz. And more text. And more text. And\n",
      "\n",
      "0 key words in sentence:\n",
      "\n",
      "\n",
      "0 key words in sentence:\n",
      "more text. And more text. And more text. And more text. And more text.\n",
      "\n",
      "0 key words in sentence:\n",
      "\n",
      "\n",
      "0 key words in sentence:\n",
      "And more text. And more text.\n",
      "\n",
      "0 key words in sentence:\n",
      "\n",
      "\n",
      "0 key words in sentence:\n",
      "And more text. And more text. And more text. And more text. And more\n",
      "\n",
      "0 key words in sentence:\n",
      "text. And more text. And more text. Even more. Continued on page 2\n",
      "\n",
      "C:\\notebook\\image\\sample.pdf\\1_sample.pdf.jpg\n",
      "2\n",
      "Simple PDF File 2\n",
      "\n",
      "...continued from page 1. Yet more text. And more text. And more text.\n",
      "And more text. And more text. And more text. And more text. And more\n",
      "text. Oh, how boring typing this stuff. But not as boring as watching\n",
      "paint dry. And more text. And more text. And more text. And more text.\n",
      "Boring. More, a little more text. The end, and just as well.\n",
      "0 key words in sentence:\n",
      "Simple PDF File 2\n",
      "\n",
      "0 key words in sentence:\n",
      "\n",
      "\n",
      "0 key words in sentence:\n",
      "...continued from page 1. Yet more text. And more text. And more text.\n",
      "\n",
      "0 key words in sentence:\n",
      "And more text. And more text. And more text. And more text. And more\n",
      "\n",
      "1 key words in sentence:\n",
      "text. Oh, how boring typing this stuff. But not as boring as watching\n",
      "\n",
      "0 key words in sentence:\n",
      "paint dry. And more text. And more text. And more text. And more text.\n",
      "\n",
      "2 key words in sentence:\n",
      "Boring. More, a little more text. The end, and just as well.\n",
      "\n",
      "C:\\\\notebook\\text-searchable.pdf\n",
      "[{'cmd': 'java -jar C:\\\\Users\\\\KS2\\\\Anaconda3\\\\lib\\\\site-packages\\\\pdf2jpg\\\\pdf2jpg.jar -i \"C:\\\\\\\\notebook\\\\text-searchable.pdf\" -o \"C:\\\\\\\\notebook\\\\image\" -p ALL', 'input_path': 'C:\\\\\\\\notebook\\\\text-searchable.pdf', 'output_pdfpath': 'C:\\\\notebook\\\\image\\\\text-searchable.pdf', 'output_jpgfiles': ['C:\\\\notebook\\\\image\\\\text-searchable.pdf\\\\0_text-searchable.pdf.jpg']}]\n",
      "C:\\notebook\\image\\text-searchable.pdf\\0_text-searchable.pdf.jpg\n",
      "1\n",
      "IDRH\n",
      "Non-text-searchable PDF\n",
      "\n",
      "This is an example of a non-text-searchable PDF. Because it was created from\n",
      "an image rather than a text document, it cannot be rendered as plain text by the\n",
      "PDF reader. Thus, attempting to select the text on the page as though it were a\n",
      "text document or website will not work, regardless of how neatly it is organized.\n",
      "0 key words in sentence:\n",
      "IDRH\n",
      "\n",
      "0 key words in sentence:\n",
      "Non-text-searchable PDF\n",
      "\n",
      "0 key words in sentence:\n",
      "\n",
      "\n",
      "0 key words in sentence:\n",
      "This is an example of a non-text-searchable PDF. Because it was created from\n",
      "\n",
      "1 key words in sentence:\n",
      "an image rather than a text document, it cannot be rendered as plain text by the\n",
      "\n",
      "0 key words in sentence:\n",
      "PDF reader. Thus, attempting to select the text on the page as though it were a\n",
      "\n",
      "0 key words in sentence:\n",
      "text document or website will not work, regardless of how neatly it is organized.\n",
      "\n"
     ]
    }
   ],
   "source": [
    "outputpath = r\"C:\\\\notebook\\image\"\n",
    "for inputpath in path_list:\n",
    "    print(inputpath)\n",
    "    # Converts pdf to images and place in output path\n",
    "    result = pdf2jpg.convert_pdf2jpg(inputpath, outputpath, pages=\"ALL\")\n",
    "    print(result)\n",
    "    \n",
    "    count=0\n",
    "#     text=''\n",
    "    # Directory is location of all the pdf images\n",
    "    directory=result[0]['output_pdfpath']\n",
    "    for filename in os.listdir(directory):\n",
    "        text=''\n",
    "        if filename.endswith(\".jpg\"): \n",
    "            print(os.path.join(directory, filename))\n",
    "            path=os.path.join(directory, filename)\n",
    "            count+=1\n",
    "            print(count)\n",
    "            # pytesseract converts image text in string\n",
    "            text = text+pytesseract.image_to_string(Image.open(path))\n",
    "            print(text)\n",
    "            text = text.split(\"\\n\")\n",
    "            sentences=text\n",
    "            search_keywords=['boring','Boring','end']\n",
    "            # checks for specific keyword and reports whether exist or not\n",
    "            for sentence in sentences:\n",
    "                print(\"{} key words in sentence:\".format(sum(1 for word in search_keywords if word in sentence)))\n",
    "                print(sentence + \"\\n\")\n",
    "    "
   ]
  },
  {
   "cell_type": "code",
   "execution_count": 27,
   "metadata": {},
   "outputs": [
    {
     "name": "stdout",
     "output_type": "stream",
     "text": [
      "['C:\\\\notebook\\\\image\\\\text-searchable.pdf\\\\0_text-searchable.pdf.jpg']\n",
      "C:\\notebook\\image\\text-searchable.pdf\n",
      "C:\\\\notebook\\text-searchable.pdf\n"
     ]
    }
   ],
   "source": [
    "print(result[0]['output_jpgfiles'])\n",
    "print(result[0]['output_pdfpath'])\n",
    "print(result[0]['input_path'])"
   ]
  },
  {
   "cell_type": "code",
   "execution_count": 16,
   "metadata": {},
   "outputs": [],
   "source": [
    "# Input file path where pdfs are stored\n",
    "inputpath = r\"C:\\\\notebook\\text-searchable.pdf\"\n",
    "# Output file path where pdfs images will be stored\n",
    "outputpath = r\"C:\\\\notebook\\image\""
   ]
  },
  {
   "cell_type": "code",
   "execution_count": 17,
   "metadata": {},
   "outputs": [
    {
     "name": "stdout",
     "output_type": "stream",
     "text": [
      "[{'cmd': 'java -jar C:\\\\Users\\\\KS2\\\\Anaconda3\\\\lib\\\\site-packages\\\\pdf2jpg\\\\pdf2jpg.jar -i \"C:\\\\\\\\notebook\\\\text-searchable.pdf\" -o \"C:\\\\\\\\notebook\\\\image\" -p ALL', 'input_path': 'C:\\\\\\\\notebook\\\\text-searchable.pdf', 'output_pdfpath': 'C:\\\\notebook\\\\image\\\\text-searchable.pdf', 'output_jpgfiles': ['C:\\\\notebook\\\\image\\\\text-searchable.pdf\\\\0_text-searchable.pdf.jpg']}]\n"
     ]
    }
   ],
   "source": [
    "# Converts pdf to images\n",
    "result = pdf2jpg.convert_pdf2jpg(inputpath, outputpath, pages=\"ALL\")\n",
    "print(result)"
   ]
  },
  {
   "cell_type": "code",
   "execution_count": 18,
   "metadata": {},
   "outputs": [
    {
     "name": "stdout",
     "output_type": "stream",
     "text": [
      "C:\\notebook\\image\\text-searchable.pdf\\0_text-searchable.pdf.jpg\n",
      "1\n",
      "IDRH\n",
      "Non-text-searchable PDF\n",
      "\n",
      "This is an example of a non-text-searchable PDF. Because it was created from\n",
      "an image rather than a text document, it cannot be rendered as plain text by the\n",
      "PDF reader. Thus, attempting to select the text on the page as though it were a\n",
      "text document or website will not work, regardless of how neatly it is organized.\n"
     ]
    }
   ],
   "source": [
    "# Directory is location of all the pdf images\n",
    "directory=r\"C:\\notebook\\image\\text-searchable.pdf\"\n",
    "count=0\n",
    "text=''\n",
    "for filename in os.listdir(directory):\n",
    "    if filename.endswith(\".jpg\"): \n",
    "        print(os.path.join(directory, filename))\n",
    "        path=os.path.join(directory, filename)\n",
    "        count+=1\n",
    "        print(count)\n",
    "#         pytesseract converts image text in string\n",
    "        text = text+pytesseract.image_to_string(Image.open(path))\n",
    "        print(text)"
   ]
  },
  {
   "cell_type": "code",
   "execution_count": 19,
   "metadata": {},
   "outputs": [
    {
     "name": "stdout",
     "output_type": "stream",
     "text": [
      "0 key words in sentence:\n",
      "IDRH\n",
      "\n",
      "0 key words in sentence:\n",
      "Non-text-searchable PDF\n",
      "\n",
      "0 key words in sentence:\n",
      "\n",
      "\n",
      "0 key words in sentence:\n",
      "This is an example of a non-text-searchable PDF. Because it was created from\n",
      "\n",
      "1 key words in sentence:\n",
      "an image rather than a text document, it cannot be rendered as plain text by the\n",
      "\n",
      "0 key words in sentence:\n",
      "PDF reader. Thus, attempting to select the text on the page as though it were a\n",
      "\n",
      "0 key words in sentence:\n",
      "text document or website will not work, regardless of how neatly it is organized.\n",
      "\n"
     ]
    }
   ],
   "source": [
    "text = text.split(\"\\n\")\n",
    "sentences=text\n",
    "search_keywords=['boring','Boring','end']\n",
    "# checks for specific keyword and reports whether exist or not\n",
    "for sentence in sentences:\n",
    "    print(\"{} key words in sentence:\".format(sum(1 for word in search_keywords if word in sentence)))\n",
    "    print(sentence + \"\\n\")\n"
   ]
  },
  {
   "cell_type": "code",
   "execution_count": 20,
   "metadata": {},
   "outputs": [],
   "source": [
    "# Deletes image directory after work is done\n",
    "if os.path.exists(directory): shutil.rmtree(directory)"
   ]
  },
  {
   "cell_type": "code",
   "execution_count": 21,
   "metadata": {},
   "outputs": [],
   "source": [
    "files = [f for f in os.listdir('.') if os.path.isfile(f)]\n",
    "files = filter(lambda f: f.endswith(('.pdf','.PDF')), files)"
   ]
  },
  {
   "cell_type": "code",
   "execution_count": 22,
   "metadata": {},
   "outputs": [
    {
     "data": {
      "text/plain": [
       "<filter at 0x7b02908>"
      ]
     },
     "execution_count": 22,
     "metadata": {},
     "output_type": "execute_result"
    }
   ],
   "source": [
    "files"
   ]
  },
  {
   "cell_type": "code",
   "execution_count": null,
   "metadata": {},
   "outputs": [],
   "source": []
  }
 ],
 "metadata": {
  "kernelspec": {
   "display_name": "Python 3",
   "language": "python",
   "name": "python3"
  },
  "language_info": {
   "codemirror_mode": {
    "name": "ipython",
    "version": 3
   },
   "file_extension": ".py",
   "mimetype": "text/x-python",
   "name": "python",
   "nbconvert_exporter": "python",
   "pygments_lexer": "ipython3",
   "version": "3.6.4"
  }
 },
 "nbformat": 4,
 "nbformat_minor": 2
}
